{
 "cells": [
  {
   "cell_type": "code",
   "execution_count": 1,
   "id": "01239db8",
   "metadata": {},
   "outputs": [],
   "source": [
    "# Import our dependencies\n",
    "from sklearn.model_selection import train_test_split\n",
    "from sklearn.preprocessing import StandardScaler\n",
    "from sklearn.metrics import confusion_matrix, ConfusionMatrixDisplay, accuracy_score, classification_report\n",
    "import pandas as pd\n",
    "import tensorflow as tf\n",
    "from matplotlib import pyplot as plt"
   ]
  },
  {
   "cell_type": "code",
   "execution_count": 3,
   "id": "e655b73a",
   "metadata": {},
   "outputs": [],
   "source": [
    "# diabetes_df = pd.read_csv('diabetes_clean_df')\n",
    "# diabetes_df.head()"
   ]
  },
  {
   "cell_type": "code",
   "execution_count": null,
   "id": "5f6e8685",
   "metadata": {},
   "outputs": [],
   "source": [
    "# diabetes_df['gender']= diabetes_df['gender'].replace('Male',1)\n",
    "# diabetes_df['gender']= diabetes_df['gender'].replace('Female',0)\n",
    "# diabetes_df.head()"
   ]
  },
  {
   "cell_type": "code",
   "execution_count": null,
   "id": "261d821a",
   "metadata": {},
   "outputs": [],
   "source": [
    "diabetes_df= diabetes_df.drop(columns='binned_age')"
   ]
  },
  {
   "cell_type": "code",
   "execution_count": null,
   "id": "eae0fd7c",
   "metadata": {},
   "outputs": [],
   "source": [
    "k_means_df = diabetes_df.copy()"
   ]
  },
  {
   "cell_type": "code",
   "execution_count": null,
   "id": "5eaee932",
   "metadata": {},
   "outputs": [],
   "source": []
  },
  {
   "cell_type": "code",
   "execution_count": null,
   "id": "94f2f8bc",
   "metadata": {},
   "outputs": [],
   "source": [
    "#set targets\n",
    "y = diabetes_df.diabetes.values\n",
    "X = diabetes_df.drop(columns=\"diabetes\")\n",
    "\n"
   ]
  },
  {
   "cell_type": "code",
   "execution_count": null,
   "id": "56e7a153",
   "metadata": {},
   "outputs": [],
   "source": [
    "X= pd.get_dummies(X)\n",
    "X.head()"
   ]
  },
  {
   "cell_type": "code",
   "execution_count": null,
   "id": "32b880f6",
   "metadata": {},
   "outputs": [],
   "source": [
    "\n",
    "# Split training/test datasets\n",
    "X_train, X_test, y_train, y_test = train_test_split(X, y, random_state=42, stratify=y)"
   ]
  },
  {
   "cell_type": "code",
   "execution_count": null,
   "id": "00df8b3d",
   "metadata": {},
   "outputs": [],
   "source": [
    "# Preprocess numerical data for neural network\n",
    "\n",
    "# Create a StandardScaler instances\n",
    "scaler = StandardScaler()\n",
    "\n",
    "# Fit the StandardScaler\n",
    "X_scaler = scaler.fit(X_train)\n",
    "\n",
    "# Scale the data\n",
    "X_train_scaled = X_scaler.transform(X_train)\n",
    "X_test_scaled = X_scaler.transform(X_test)"
   ]
  },
  {
   "cell_type": "markdown",
   "id": "48cd67e0",
   "metadata": {},
   "source": [
    "# Model 1"
   ]
  },
  {
   "cell_type": "code",
   "execution_count": null,
   "id": "fd3161ec",
   "metadata": {},
   "outputs": [],
   "source": [
    "# Define the deep learning model\n",
    "nn_model = tf.keras.models.Sequential()\n",
    "nn_model.add(tf.keras.layers.Dense(units=16, activation=\"relu\", input_dim=13))\n",
    "nn_model.add(tf.keras.layers.Dense(units=16, activation=\"relu\"))\n",
    "nn_model.add(tf.keras.layers.Dense(units=1, activation=\"sigmoid\"))\n",
    "# Compile the Sequential model together and customize metrics\n",
    "nn_model.compile(loss=\"binary_crossentropy\", optimizer=\"adam\", metrics=[\"accuracy\"])\n",
    "# Train the model\n",
    "fit_model = nn_model.fit(X_train_scaled, y_train, epochs=50)\n",
    "# Evaluate the model using the test data\n",
    "model_loss, model_accuracy = nn_model.evaluate(X_train_scaled,y_train,verbose=2)\n",
    "print(f\"Loss: {model_loss}, Accuracy: {model_accuracy}\")"
   ]
  },
  {
   "cell_type": "code",
   "execution_count": null,
   "id": "9b585a37",
   "metadata": {},
   "outputs": [],
   "source": [
    "model_loss, model_accuracy = nn_model.evaluate(X_test_scaled,y_test,verbose=2)\n",
    "print(f\"Loss: {model_loss}, Accuracy: {model_accuracy}\")"
   ]
  },
  {
   "cell_type": "code",
   "execution_count": null,
   "id": "5fa0168a",
   "metadata": {},
   "outputs": [],
   "source": [
    "nn_model.save(\"diabetes_model1.h5\")"
   ]
  },
  {
   "cell_type": "code",
   "execution_count": null,
   "id": "de2210dd",
   "metadata": {},
   "outputs": [],
   "source": [
    "import numpy as np\n",
    "\n",
    "y_pred = nn_model.predict(X_test_scaled)\n",
    "y_pred_binary = (y_pred > 0.5).astype(int)  # Convert probabilities to binary predictions\n",
    "# Calculate the confusion matrix\n",
    "cm = confusion_matrix(y_test, y_pred_binary)\n",
    "# Display the confusion matrix as a heatmap\n",
    "classes = [\"Negative Class\", \"Positive Class\"]  # Replace with your class labels\n",
    "disp = ConfusionMatrixDisplay(confusion_matrix=cm, display_labels=classes)\n",
    "disp.plot(cmap=plt.cm.Blues, values_format=\".4g\")\n",
    "plt.title(\"Confusion Matrix\")\n",
    "plt.show()"
   ]
  },
  {
   "cell_type": "markdown",
   "id": "dfeafde5",
   "metadata": {},
   "source": [
    "# Model 2"
   ]
  },
  {
   "cell_type": "code",
   "execution_count": null,
   "id": "75e917a9",
   "metadata": {},
   "outputs": [],
   "source": [
    "# Define the deep learning model\n",
    "nn_model2 = tf.keras.models.Sequential()\n",
    "nn_model2.add(tf.keras.layers.Dense(units=20, activation=\"relu\", input_dim=13))\n",
    "nn_model2.add(tf.keras.layers.Dense(units=18, activation=\"relu\"))\n",
    "nn_model2.add(tf.keras.layers.Dense(units=10, activation=\"relu\"))\n",
    "nn_model2.add(tf.keras.layers.Dense(units=1, activation=\"sigmoid\"))\n",
    "# Compile the Sequential model together and customize metrics\n",
    "nn_model2.compile(loss=\"binary_crossentropy\", optimizer=\"adam\", metrics=[\"accuracy\"])\n",
    "# Train the model\n",
    "fit_model = nn_model2.fit(X_train_scaled, y_train, epochs=50)\n",
    "# Evaluate the model using the test data\n",
    "model_loss, model_accuracy = nn_model2.evaluate(X_train_scaled,y_train,verbose=2)\n",
    "print(f\"Loss: {model_loss}, Accuracy: {model_accuracy}\")"
   ]
  },
  {
   "cell_type": "code",
   "execution_count": null,
   "id": "bc007e81",
   "metadata": {},
   "outputs": [],
   "source": [
    "model_loss, model_accuracy = nn_model2.evaluate(X_test_scaled,y_test,verbose=2)\n",
    "print(f\"Loss: {model_loss}, Accuracy: {model_accuracy}\")"
   ]
  },
  {
   "cell_type": "code",
   "execution_count": null,
   "id": "e26effc3",
   "metadata": {},
   "outputs": [],
   "source": [
    "nn_model2.save(\"diabetes_model2.h5\")"
   ]
  },
  {
   "cell_type": "markdown",
   "id": "7cad005b",
   "metadata": {},
   "source": [
    "# Model 3\n"
   ]
  },
  {
   "cell_type": "code",
   "execution_count": null,
   "id": "f00ba580",
   "metadata": {},
   "outputs": [],
   "source": [
    "# Define the deep learning model\n",
    "nn_model3 = tf.keras.models.Sequential()\n",
    "nn_model3.add(tf.keras.layers.Dense(units=35, activation=\"relu\", input_dim=13))\n",
    "nn_model3.add(tf.keras.layers.Dense(units=18, activation=\"relu\"))\n",
    "nn_model3.add(tf.keras.layers.Dense(units=10, activation=\"relu\"))\n",
    "nn_model3.add(tf.keras.layers.Dense(units=13, activation=\"relu\"))\n",
    "nn_model3.add(tf.keras.layers.Dense(units=24, activation=\"relu\"))\n",
    "nn_model3.add(tf.keras.layers.Dense(units=31, activation=\"relu\"))\n",
    "nn_model3.add(tf.keras.layers.Dense(units=1, activation=\"sigmoid\"))\n",
    "# Compile the Sequential model together and customize metrics\n",
    "nn_model3.compile(loss=\"binary_crossentropy\", optimizer=\"adam\", metrics=[\"accuracy\"])\n",
    "# Train the model\n",
    "fit_model = nn_model3.fit(X_train_scaled, y_train, epochs=50)\n",
    "# Evaluate the model using the test data\n",
    "model_loss, model_accuracy = nn_model3.evaluate(X_train_scaled,y_train,verbose=2)\n",
    "print(f\"Loss: {model_loss}, Accuracy: {model_accuracy}\")"
   ]
  },
  {
   "cell_type": "code",
   "execution_count": null,
   "id": "3adf8f5c",
   "metadata": {},
   "outputs": [],
   "source": [
    "model_loss, model_accuracy = nn_model3.evaluate(X_test_scaled,y_test,verbose=2)\n",
    "print(f\"Loss: {model_loss}, Accuracy: {model_accuracy}\")"
   ]
  },
  {
   "cell_type": "code",
   "execution_count": null,
   "id": "d6a6aff2",
   "metadata": {},
   "outputs": [],
   "source": [
    "nn_model3.save(\"diabetes_model3.h5\")"
   ]
  },
  {
   "cell_type": "markdown",
   "id": "6c3ac1a4",
   "metadata": {},
   "source": [
    "# Model 4\n",
    "kmeans"
   ]
  },
  {
   "cell_type": "code",
   "execution_count": null,
   "id": "a4072085",
   "metadata": {},
   "outputs": [],
   "source": [
    "import hvplot.pandas\n",
    "from pathlib import Path\n",
    "from sklearn.cluster import KMeans"
   ]
  },
  {
   "cell_type": "code",
   "execution_count": null,
   "id": "502ae800",
   "metadata": {},
   "outputs": [],
   "source": [
    "d_kmeans_df = pd.get_dummies(k_means_df)\n",
    "d_kmeans_df"
   ]
  },
  {
   "cell_type": "code",
   "execution_count": null,
   "id": "0ecd921b",
   "metadata": {},
   "outputs": [],
   "source": [
    "# Create a a list to store inertia values\n",
    "inertia = []\n",
    "\n",
    "# Create a a list to store the values of k\n",
    "k = list(range(1, 11))"
   ]
  },
  {
   "cell_type": "code",
   "execution_count": null,
   "id": "e8b542e8",
   "metadata": {},
   "outputs": [],
   "source": [
    "# Create a for-loop where each value of k is evaluated using the K-means algorithm\n",
    "# Fit the model using the spread_df DataFrame\n",
    "# Append the value of the computed inertia from the `inertia_` attribute of the KMeans model instance\n",
    "for i in k:\n",
    "    k_model = KMeans(n_clusters=i, random_state=1)\n",
    "    k_model.fit(d_kmeans_df)\n",
    "    inertia.append(k_model.inertia_)"
   ]
  },
  {
   "cell_type": "code",
   "execution_count": null,
   "id": "c0d9d6f6",
   "metadata": {},
   "outputs": [],
   "source": [
    "# Create a Dictionary that holds the list values for k and inertia\n",
    "elbow_data = {\"k\": k, \"inertia\": inertia}\n",
    "\n",
    "# Create a DataFrame using the elbow_data Dictionary\n",
    "df_elbow = pd.DataFrame(elbow_data)\n",
    "\n",
    "# Review the DataFrame\n",
    "df_elbow.head()"
   ]
  },
  {
   "cell_type": "code",
   "execution_count": null,
   "id": "43141fad",
   "metadata": {},
   "outputs": [],
   "source": [
    "# Plot the DataFrame\n",
    "df_elbow.hvplot.line(\n",
    "    x=\"k\", \n",
    "    y=\"inertia\", \n",
    "    title=\"Elbow Curve\", \n",
    "    xticks=k\n",
    ")"
   ]
  },
  {
   "cell_type": "code",
   "execution_count": null,
   "id": "c7d239c6",
   "metadata": {},
   "outputs": [],
   "source": [
    "# Define the model with the lower value of k clusters\n",
    "# Use a random_state of 1 to generate the model\n",
    "model = KMeans(n_clusters=3, random_state=36)\n",
    "\n",
    "# Fit the model\n",
    "model.fit(d_kmeans_df)\n",
    "\n",
    "# Make predictions\n",
    "k_lower = model.predict(d_kmeans_df)\n",
    "\n",
    "# Create a copy of the DataFrame and name it as spread_df_predictions\n",
    "d_kmeans_df_predictions = d_kmeans_df.copy()\n",
    "\n",
    "# Add a class column with the labels to the spread_df_predictions DataFrame\n",
    "d_kmeans_df_predictions['clusters_lower'] = k_lower"
   ]
  },
  {
   "cell_type": "code",
   "execution_count": null,
   "id": "60b7d8a5",
   "metadata": {},
   "outputs": [],
   "source": [
    "# Plot the clusters\n",
    "d_kmeans_df_predictions.hvplot.scatter(\n",
    "    x='age',\n",
    "    y=\"HbA1c_level\",\n",
    "    by=\"clusters_lower\"\n",
    ").opts(yformatter=\"%.0f\")"
   ]
  },
  {
   "cell_type": "code",
   "execution_count": null,
   "id": "52e18ea6",
   "metadata": {},
   "outputs": [],
   "source": []
  }
 ],
 "metadata": {
  "kernelspec": {
   "display_name": "Python 3 (ipykernel)",
   "language": "python",
   "name": "python3"
  },
  "language_info": {
   "codemirror_mode": {
    "name": "ipython",
    "version": 3
   },
   "file_extension": ".py",
   "mimetype": "text/x-python",
   "name": "python",
   "nbconvert_exporter": "python",
   "pygments_lexer": "ipython3",
   "version": "3.10.9"
  }
 },
 "nbformat": 4,
 "nbformat_minor": 5
}
